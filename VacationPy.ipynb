{
 "cells": [
  {
   "cell_type": "code",
   "execution_count": 1,
   "id": "1729e86c",
   "metadata": {},
   "outputs": [],
   "source": [
    "import pandas as pd\n",
    "import sys\n",
    "sys.path.append(\"c:\\\\users\\\\lt\\\\anaconda3\\\\envs\\\\pythondata\\\\lib\\\\site-packages\")\n",
    "sys.path\n",
    "import gmaps\n",
    "import requests\n",
    "from config import g_key"
   ]
  },
  {
   "cell_type": "code",
   "execution_count": 2,
   "id": "d04745f0",
   "metadata": {
    "scrolled": true
   },
   "outputs": [
    {
     "data": {
      "text/html": [
       "<div>\n",
       "<style scoped>\n",
       "    .dataframe tbody tr th:only-of-type {\n",
       "        vertical-align: middle;\n",
       "    }\n",
       "\n",
       "    .dataframe tbody tr th {\n",
       "        vertical-align: top;\n",
       "    }\n",
       "\n",
       "    .dataframe thead th {\n",
       "        text-align: right;\n",
       "    }\n",
       "</style>\n",
       "<table border=\"1\" class=\"dataframe\">\n",
       "  <thead>\n",
       "    <tr style=\"text-align: right;\">\n",
       "      <th></th>\n",
       "      <th>City_ID</th>\n",
       "      <th>City_ID.1</th>\n",
       "      <th>City</th>\n",
       "      <th>Country</th>\n",
       "      <th>Date</th>\n",
       "      <th>Lat</th>\n",
       "      <th>Lng</th>\n",
       "      <th>Max Temp</th>\n",
       "      <th>Humidity</th>\n",
       "      <th>Cloudiness</th>\n",
       "      <th>Wind Speed</th>\n",
       "    </tr>\n",
       "  </thead>\n",
       "  <tbody>\n",
       "    <tr>\n",
       "      <th>0</th>\n",
       "      <td>0</td>\n",
       "      <td>0</td>\n",
       "      <td>Kalmunai</td>\n",
       "      <td>LK</td>\n",
       "      <td>2022-05-24 20:17:31</td>\n",
       "      <td>7.4167</td>\n",
       "      <td>81.8167</td>\n",
       "      <td>79.178</td>\n",
       "      <td>82</td>\n",
       "      <td>100</td>\n",
       "      <td>3.16</td>\n",
       "    </tr>\n",
       "    <tr>\n",
       "      <th>1</th>\n",
       "      <td>1</td>\n",
       "      <td>1</td>\n",
       "      <td>Albany</td>\n",
       "      <td>US</td>\n",
       "      <td>2022-05-24 20:14:50</td>\n",
       "      <td>42.6001</td>\n",
       "      <td>-73.9662</td>\n",
       "      <td>74.030</td>\n",
       "      <td>45</td>\n",
       "      <td>55</td>\n",
       "      <td>2.25</td>\n",
       "    </tr>\n",
       "    <tr>\n",
       "      <th>2</th>\n",
       "      <td>2</td>\n",
       "      <td>2</td>\n",
       "      <td>Mataura</td>\n",
       "      <td>NZ</td>\n",
       "      <td>2022-05-24 20:17:31</td>\n",
       "      <td>-46.1927</td>\n",
       "      <td>168.8643</td>\n",
       "      <td>49.478</td>\n",
       "      <td>74</td>\n",
       "      <td>74</td>\n",
       "      <td>5.00</td>\n",
       "    </tr>\n",
       "    <tr>\n",
       "      <th>3</th>\n",
       "      <td>3</td>\n",
       "      <td>3</td>\n",
       "      <td>Elko</td>\n",
       "      <td>US</td>\n",
       "      <td>2022-05-24 20:17:32</td>\n",
       "      <td>41.0002</td>\n",
       "      <td>-115.5012</td>\n",
       "      <td>69.818</td>\n",
       "      <td>11</td>\n",
       "      <td>0</td>\n",
       "      <td>5.36</td>\n",
       "    </tr>\n",
       "    <tr>\n",
       "      <th>4</th>\n",
       "      <td>4</td>\n",
       "      <td>4</td>\n",
       "      <td>Carnarvon</td>\n",
       "      <td>AU</td>\n",
       "      <td>2022-05-24 20:17:32</td>\n",
       "      <td>-24.8667</td>\n",
       "      <td>113.6333</td>\n",
       "      <td>67.514</td>\n",
       "      <td>66</td>\n",
       "      <td>24</td>\n",
       "      <td>3.99</td>\n",
       "    </tr>\n",
       "  </tbody>\n",
       "</table>\n",
       "</div>"
      ],
      "text/plain": [
       "   City_ID  City_ID.1       City Country                 Date      Lat  \\\n",
       "0        0          0   Kalmunai      LK  2022-05-24 20:17:31   7.4167   \n",
       "1        1          1     Albany      US  2022-05-24 20:14:50  42.6001   \n",
       "2        2          2    Mataura      NZ  2022-05-24 20:17:31 -46.1927   \n",
       "3        3          3       Elko      US  2022-05-24 20:17:32  41.0002   \n",
       "4        4          4  Carnarvon      AU  2022-05-24 20:17:32 -24.8667   \n",
       "\n",
       "        Lng  Max Temp  Humidity  Cloudiness  Wind Speed  \n",
       "0   81.8167    79.178        82         100        3.16  \n",
       "1  -73.9662    74.030        45          55        2.25  \n",
       "2  168.8643    49.478        74          74        5.00  \n",
       "3 -115.5012    69.818        11           0        5.36  \n",
       "4  113.6333    67.514        66          24        3.99  "
      ]
     },
     "execution_count": 2,
     "metadata": {},
     "output_type": "execute_result"
    }
   ],
   "source": [
    "city_data_df = pd.read_csv(\"weather_data/cities.csv\")\n",
    "city_data_df[\"Max Temp\"] = (city_data_df[\"Max Temp\"] - 273.15)*9/5 + 32\n",
    "city_data_df.head()"
   ]
  },
  {
   "cell_type": "code",
   "execution_count": 3,
   "id": "2b48ff6d",
   "metadata": {},
   "outputs": [
    {
     "data": {
      "text/plain": [
       "City_ID         int64\n",
       "City_ID.1       int64\n",
       "City           object\n",
       "Country        object\n",
       "Date           object\n",
       "Lat           float64\n",
       "Lng           float64\n",
       "Max Temp      float64\n",
       "Humidity        int64\n",
       "Cloudiness      int64\n",
       "Wind Speed    float64\n",
       "dtype: object"
      ]
     },
     "execution_count": 3,
     "metadata": {},
     "output_type": "execute_result"
    }
   ],
   "source": [
    "city_data_df.dtypes"
   ]
  },
  {
   "cell_type": "code",
   "execution_count": 4,
   "id": "371b9e61",
   "metadata": {},
   "outputs": [],
   "source": [
    "# Configure gmaps to use your Google API key.\n",
    "gmaps.configure(api_key=g_key)"
   ]
  },
  {
   "cell_type": "code",
   "execution_count": 5,
   "id": "e99af167",
   "metadata": {},
   "outputs": [],
   "source": [
    "# # Get the maximum temperature.\n",
    "# max_temp = city_data_df[\"Max Temp\"]\n",
    "# temps = []\n",
    "# for temp in max_temp:\n",
    "#     temps.append(max(temp, 0))"
   ]
  },
  {
   "cell_type": "code",
   "execution_count": 6,
   "id": "c4fce78a",
   "metadata": {},
   "outputs": [
    {
     "data": {
      "application/vnd.jupyter.widget-view+json": {
       "model_id": "6fb1bae84fe748859fbd4cbf3819126c",
       "version_major": 2,
       "version_minor": 0
      },
      "text/plain": [
       "Figure(layout=FigureLayout(height='420px'))"
      ]
     },
     "metadata": {},
     "output_type": "display_data"
    }
   ],
   "source": [
    "# Heatmap of temperature\n",
    "# Get the latitude and longitude.\n",
    "locations = city_data_df[[\"Lat\", \"Lng\"]]\n",
    "# Get the maximum temperature.\n",
    "max_temp = city_data_df[\"Max Temp\"]\n",
    "# Assign the figure variable.\n",
    "fig = gmaps.figure()\n",
    "# Assign the heatmap variable.\n",
    "# heat_layer = gmaps.heatmap_layer(locations, weights=max_temp)\n",
    "heat_layer = gmaps.heatmap_layer(locations, weights=[max(temp, 0) for temp in max_temp])\n",
    "# Add the heatmap layer.\n",
    "fig.add_layer(heat_layer)\n",
    "# Call the figure to plot the data.\n",
    "fig"
   ]
  },
  {
   "cell_type": "code",
   "execution_count": 7,
   "id": "e72c8e65",
   "metadata": {
    "scrolled": false
   },
   "outputs": [
    {
     "data": {
      "application/vnd.jupyter.widget-view+json": {
       "model_id": "50f9bf917a7245f2860eb25488cb5f18",
       "version_major": 2,
       "version_minor": 0
      },
      "text/plain": [
       "Figure(layout=FigureLayout(height='420px'))"
      ]
     },
     "metadata": {},
     "output_type": "display_data"
    }
   ],
   "source": [
    "# Heatmap of temperature\n",
    "# amended: fig = \n",
    "# Get the latitude and longitude.\n",
    "locations = city_data_df[[\"Lat\", \"Lng\"]]\n",
    "# Get the maximum temperature.\n",
    "max_temp = city_data_df[\"Max Temp\"]\n",
    "# Assign the figure variable.\n",
    "fig = gmaps.figure(center=(30.0, 31.0), zoom_level=1.5)\n",
    "# Assign the heatmap variable.\n",
    "# heat_layer = gmaps.heatmap_layer(locations, weights=max_temp)\n",
    "heat_layer = gmaps.heatmap_layer(locations, weights=[max(temp, 0) for temp in max_temp])\n",
    "# Add the heatmap layer.\n",
    "fig.add_layer(heat_layer)\n",
    "# Call the figure to plot the data.\n",
    "fig"
   ]
  },
  {
   "cell_type": "code",
   "execution_count": 8,
   "id": "a36b1b80",
   "metadata": {
    "scrolled": true
   },
   "outputs": [
    {
     "data": {
      "application/vnd.jupyter.widget-view+json": {
       "model_id": "0a551a4acbda47259156d5498e1faab6",
       "version_major": 2,
       "version_minor": 0
      },
      "text/plain": [
       "Figure(layout=FigureLayout(height='420px'))"
      ]
     },
     "metadata": {},
     "output_type": "display_data"
    }
   ],
   "source": [
    "# Heatmap of temperature\n",
    "# amended: heat_layer = \n",
    "# Get the latitude and longitude.\n",
    "locations = city_data_df[[\"Lat\", \"Lng\"]]\n",
    "# Get the maximum temperature.\n",
    "max_temp = city_data_df[\"Max Temp\"]\n",
    "# Assign the figure variable.\n",
    "fig = gmaps.figure(center=(30.0, 31.0), zoom_level=1.5)\n",
    "# Assign the heatmap variable.\n",
    "# heat_layer = gmaps.heatmap_layer(locations, weights=max_temp)\n",
    "heat_layer = gmaps.heatmap_layer(locations, weights=[max(temp, 0) for temp in max_temp], dissipating=False, max_intensity=300, point_radius=4)\n",
    "# Add the heatmap layer.\n",
    "fig.add_layer(heat_layer)\n",
    "# Call the figure to plot the data.\n",
    "fig"
   ]
  },
  {
   "cell_type": "code",
   "execution_count": 9,
   "id": "b4d58e7e",
   "metadata": {
    "scrolled": false
   },
   "outputs": [
    {
     "data": {
      "application/vnd.jupyter.widget-view+json": {
       "model_id": "dd358270136448fda8d14b6b8a74660d",
       "version_major": 2,
       "version_minor": 0
      },
      "text/plain": [
       "Figure(layout=FigureLayout(height='420px'))"
      ]
     },
     "metadata": {},
     "output_type": "display_data"
    }
   ],
   "source": [
    "# Heatmap of percent humidity\n",
    "locations = city_data_df[[\"Lat\", \"Lng\"]]\n",
    "humidity = city_data_df[\"Humidity\"]\n",
    "fig = gmaps.figure(center=(30.0, 31.0), zoom_level=1.5)\n",
    "heat_layer = gmaps.heatmap_layer(locations, weights=humidity, dissipating=False, max_intensity=300, point_radius=4)\n",
    "\n",
    "fig.add_layer(heat_layer)\n",
    "# Call the figure to plot the data.\n",
    "fig"
   ]
  },
  {
   "cell_type": "code",
   "execution_count": 10,
   "id": "ff64a182",
   "metadata": {
    "scrolled": true
   },
   "outputs": [
    {
     "data": {
      "application/vnd.jupyter.widget-view+json": {
       "model_id": "8e9f4be1fcdb4d1383c6ba48e804f784",
       "version_major": 2,
       "version_minor": 0
      },
      "text/plain": [
       "Figure(layout=FigureLayout(height='420px'))"
      ]
     },
     "metadata": {},
     "output_type": "display_data"
    }
   ],
   "source": [
    "# Heatmap of percent humidity\n",
    "locations = city_data_df[[\"Lat\", \"Lng\"]]\n",
    "clouds = city_data_df[\"Cloudiness\"]\n",
    "fig = gmaps.figure(center=(30.0, 31.0), zoom_level=1.5)\n",
    "heat_layer = gmaps.heatmap_layer(locations, weights=clouds, dissipating=False, max_intensity=300, point_radius=4)\n",
    "\n",
    "fig.add_layer(heat_layer)\n",
    "# Call the figure to plot the data.\n",
    "fig"
   ]
  },
  {
   "cell_type": "code",
   "execution_count": 11,
   "id": "c34d5db7",
   "metadata": {
    "scrolled": true
   },
   "outputs": [
    {
     "data": {
      "application/vnd.jupyter.widget-view+json": {
       "model_id": "eda008ec732f4adea63882887fa12ad9",
       "version_major": 2,
       "version_minor": 0
      },
      "text/plain": [
       "Figure(layout=FigureLayout(height='420px'))"
      ]
     },
     "metadata": {},
     "output_type": "display_data"
    }
   ],
   "source": [
    "# Heatmap of percent humidity\n",
    "locations = city_data_df[[\"Lat\", \"Lng\"]]\n",
    "wind = city_data_df[\"Wind Speed\"]\n",
    "fig = gmaps.figure(center=(30.0, 31.0), zoom_level=1.5)\n",
    "heat_layer = gmaps.heatmap_layer(locations, weights=wind, dissipating=False, max_intensity=300, point_radius=4)\n",
    "\n",
    "fig.add_layer(heat_layer)\n",
    "# Call the figure to plot the data.\n",
    "fig"
   ]
  },
  {
   "cell_type": "code",
   "execution_count": 12,
   "id": "d9eea216",
   "metadata": {
    "scrolled": true
   },
   "outputs": [
    {
     "name": "stdout",
     "output_type": "stream",
     "text": [
      "What is the minimum temperature you would like for your trip? 88\n",
      "What is the maximum temperature you would like for your trip? 90\n"
     ]
    }
   ],
   "source": [
    "# Ask the customer to add a minimum and maximum temperature value.\n",
    "min_temp = float(input(\"What is the minimum temperature you would like for your trip? \"))\n",
    "max_temp = float(input(\"What is the maximum temperature you would like for your trip? \"))"
   ]
  },
  {
   "cell_type": "code",
   "execution_count": 13,
   "id": "c7be24a5",
   "metadata": {
    "scrolled": true
   },
   "outputs": [
    {
     "data": {
      "text/html": [
       "<div>\n",
       "<style scoped>\n",
       "    .dataframe tbody tr th:only-of-type {\n",
       "        vertical-align: middle;\n",
       "    }\n",
       "\n",
       "    .dataframe tbody tr th {\n",
       "        vertical-align: top;\n",
       "    }\n",
       "\n",
       "    .dataframe thead th {\n",
       "        text-align: right;\n",
       "    }\n",
       "</style>\n",
       "<table border=\"1\" class=\"dataframe\">\n",
       "  <thead>\n",
       "    <tr style=\"text-align: right;\">\n",
       "      <th></th>\n",
       "      <th>City_ID</th>\n",
       "      <th>City_ID.1</th>\n",
       "      <th>City</th>\n",
       "      <th>Country</th>\n",
       "      <th>Date</th>\n",
       "      <th>Lat</th>\n",
       "      <th>Lng</th>\n",
       "      <th>Max Temp</th>\n",
       "      <th>Humidity</th>\n",
       "      <th>Cloudiness</th>\n",
       "      <th>Wind Speed</th>\n",
       "    </tr>\n",
       "  </thead>\n",
       "  <tbody>\n",
       "    <tr>\n",
       "      <th>26</th>\n",
       "      <td>26</td>\n",
       "      <td>26</td>\n",
       "      <td>Sur</td>\n",
       "      <td>OM</td>\n",
       "      <td>2022-05-24 20:17:38</td>\n",
       "      <td>22.5667</td>\n",
       "      <td>59.5289</td>\n",
       "      <td>88.268</td>\n",
       "      <td>54</td>\n",
       "      <td>0</td>\n",
       "      <td>6.56</td>\n",
       "    </tr>\n",
       "    <tr>\n",
       "      <th>38</th>\n",
       "      <td>38</td>\n",
       "      <td>38</td>\n",
       "      <td>Diamantino</td>\n",
       "      <td>BR</td>\n",
       "      <td>2022-05-24 20:17:41</td>\n",
       "      <td>-14.4086</td>\n",
       "      <td>-56.4461</td>\n",
       "      <td>88.520</td>\n",
       "      <td>27</td>\n",
       "      <td>0</td>\n",
       "      <td>2.31</td>\n",
       "    </tr>\n",
       "    <tr>\n",
       "      <th>73</th>\n",
       "      <td>73</td>\n",
       "      <td>73</td>\n",
       "      <td>Nepa Nagar</td>\n",
       "      <td>IN</td>\n",
       "      <td>2022-05-24 20:18:17</td>\n",
       "      <td>21.4667</td>\n",
       "      <td>76.4000</td>\n",
       "      <td>88.106</td>\n",
       "      <td>48</td>\n",
       "      <td>0</td>\n",
       "      <td>4.30</td>\n",
       "    </tr>\n",
       "    <tr>\n",
       "      <th>77</th>\n",
       "      <td>77</td>\n",
       "      <td>77</td>\n",
       "      <td>Bilma</td>\n",
       "      <td>NE</td>\n",
       "      <td>2022-05-24 20:18:18</td>\n",
       "      <td>18.6853</td>\n",
       "      <td>12.9164</td>\n",
       "      <td>89.258</td>\n",
       "      <td>10</td>\n",
       "      <td>1</td>\n",
       "      <td>0.65</td>\n",
       "    </tr>\n",
       "    <tr>\n",
       "      <th>92</th>\n",
       "      <td>92</td>\n",
       "      <td>92</td>\n",
       "      <td>Sabha</td>\n",
       "      <td>LY</td>\n",
       "      <td>2022-05-24 20:18:43</td>\n",
       "      <td>27.0377</td>\n",
       "      <td>14.4283</td>\n",
       "      <td>88.340</td>\n",
       "      <td>13</td>\n",
       "      <td>53</td>\n",
       "      <td>4.39</td>\n",
       "    </tr>\n",
       "    <tr>\n",
       "      <th>156</th>\n",
       "      <td>156</td>\n",
       "      <td>156</td>\n",
       "      <td>Buxar</td>\n",
       "      <td>IN</td>\n",
       "      <td>2022-05-24 20:19:20</td>\n",
       "      <td>25.5833</td>\n",
       "      <td>83.9833</td>\n",
       "      <td>88.466</td>\n",
       "      <td>39</td>\n",
       "      <td>98</td>\n",
       "      <td>3.05</td>\n",
       "    </tr>\n",
       "    <tr>\n",
       "      <th>195</th>\n",
       "      <td>195</td>\n",
       "      <td>195</td>\n",
       "      <td>Villa Bruzual</td>\n",
       "      <td>VE</td>\n",
       "      <td>2022-05-24 20:19:51</td>\n",
       "      <td>9.3328</td>\n",
       "      <td>-69.1208</td>\n",
       "      <td>88.322</td>\n",
       "      <td>49</td>\n",
       "      <td>100</td>\n",
       "      <td>2.14</td>\n",
       "    </tr>\n",
       "    <tr>\n",
       "      <th>242</th>\n",
       "      <td>242</td>\n",
       "      <td>242</td>\n",
       "      <td>Guane</td>\n",
       "      <td>CU</td>\n",
       "      <td>2022-05-24 20:20:23</td>\n",
       "      <td>22.2025</td>\n",
       "      <td>-84.0875</td>\n",
       "      <td>89.456</td>\n",
       "      <td>48</td>\n",
       "      <td>82</td>\n",
       "      <td>5.01</td>\n",
       "    </tr>\n",
       "    <tr>\n",
       "      <th>280</th>\n",
       "      <td>280</td>\n",
       "      <td>280</td>\n",
       "      <td>Nobres</td>\n",
       "      <td>BR</td>\n",
       "      <td>2022-05-24 20:20:54</td>\n",
       "      <td>-14.7203</td>\n",
       "      <td>-56.3275</td>\n",
       "      <td>89.528</td>\n",
       "      <td>28</td>\n",
       "      <td>0</td>\n",
       "      <td>1.44</td>\n",
       "    </tr>\n",
       "    <tr>\n",
       "      <th>323</th>\n",
       "      <td>323</td>\n",
       "      <td>323</td>\n",
       "      <td>Robinson</td>\n",
       "      <td>US</td>\n",
       "      <td>2022-05-24 20:21:26</td>\n",
       "      <td>31.4677</td>\n",
       "      <td>-97.1147</td>\n",
       "      <td>88.016</td>\n",
       "      <td>56</td>\n",
       "      <td>75</td>\n",
       "      <td>6.17</td>\n",
       "    </tr>\n",
       "  </tbody>\n",
       "</table>\n",
       "</div>"
      ],
      "text/plain": [
       "     City_ID  City_ID.1           City Country                 Date      Lat  \\\n",
       "26        26         26            Sur      OM  2022-05-24 20:17:38  22.5667   \n",
       "38        38         38     Diamantino      BR  2022-05-24 20:17:41 -14.4086   \n",
       "73        73         73     Nepa Nagar      IN  2022-05-24 20:18:17  21.4667   \n",
       "77        77         77          Bilma      NE  2022-05-24 20:18:18  18.6853   \n",
       "92        92         92          Sabha      LY  2022-05-24 20:18:43  27.0377   \n",
       "156      156        156          Buxar      IN  2022-05-24 20:19:20  25.5833   \n",
       "195      195        195  Villa Bruzual      VE  2022-05-24 20:19:51   9.3328   \n",
       "242      242        242          Guane      CU  2022-05-24 20:20:23  22.2025   \n",
       "280      280        280         Nobres      BR  2022-05-24 20:20:54 -14.7203   \n",
       "323      323        323       Robinson      US  2022-05-24 20:21:26  31.4677   \n",
       "\n",
       "         Lng  Max Temp  Humidity  Cloudiness  Wind Speed  \n",
       "26   59.5289    88.268        54           0        6.56  \n",
       "38  -56.4461    88.520        27           0        2.31  \n",
       "73   76.4000    88.106        48           0        4.30  \n",
       "77   12.9164    89.258        10           1        0.65  \n",
       "92   14.4283    88.340        13          53        4.39  \n",
       "156  83.9833    88.466        39          98        3.05  \n",
       "195 -69.1208    88.322        49         100        2.14  \n",
       "242 -84.0875    89.456        48          82        5.01  \n",
       "280 -56.3275    89.528        28           0        1.44  \n",
       "323 -97.1147    88.016        56          75        6.17  "
      ]
     },
     "execution_count": 13,
     "metadata": {},
     "output_type": "execute_result"
    }
   ],
   "source": [
    "# Filter the dataset to find the cities that fit the criteria.\n",
    "preferred_cities_df = city_data_df.loc[(city_data_df[\"Max Temp\"] <= max_temp) & \\\n",
    "                                       (city_data_df[\"Max Temp\"] >= min_temp)]\n",
    "preferred_cities_df.head(10)"
   ]
  },
  {
   "cell_type": "code",
   "execution_count": 14,
   "id": "7298840f",
   "metadata": {
    "scrolled": true
   },
   "outputs": [
    {
     "data": {
      "text/plain": [
       "City_ID       0\n",
       "City_ID.1     0\n",
       "City          0\n",
       "Country       0\n",
       "Date          0\n",
       "Lat           0\n",
       "Lng           0\n",
       "Max Temp      0\n",
       "Humidity      0\n",
       "Cloudiness    0\n",
       "Wind Speed    0\n",
       "dtype: int64"
      ]
     },
     "execution_count": 14,
     "metadata": {},
     "output_type": "execute_result"
    }
   ],
   "source": [
    "preferred_cities_df.isnull().sum()"
   ]
  },
  {
   "cell_type": "code",
   "execution_count": 15,
   "id": "879dc4ac",
   "metadata": {},
   "outputs": [
    {
     "data": {
      "text/plain": [
       "City_ID       13\n",
       "City_ID.1     13\n",
       "City          13\n",
       "Country       13\n",
       "Date          13\n",
       "Lat           13\n",
       "Lng           13\n",
       "Max Temp      13\n",
       "Humidity      13\n",
       "Cloudiness    13\n",
       "Wind Speed    13\n",
       "dtype: int64"
      ]
     },
     "execution_count": 15,
     "metadata": {},
     "output_type": "execute_result"
    }
   ],
   "source": [
    "preferred_cities_df.notnull().sum()"
   ]
  },
  {
   "cell_type": "code",
   "execution_count": 16,
   "id": "3f1f89da",
   "metadata": {
    "scrolled": true
   },
   "outputs": [
    {
     "data": {
      "text/html": [
       "<div>\n",
       "<style scoped>\n",
       "    .dataframe tbody tr th:only-of-type {\n",
       "        vertical-align: middle;\n",
       "    }\n",
       "\n",
       "    .dataframe tbody tr th {\n",
       "        vertical-align: top;\n",
       "    }\n",
       "\n",
       "    .dataframe thead th {\n",
       "        text-align: right;\n",
       "    }\n",
       "</style>\n",
       "<table border=\"1\" class=\"dataframe\">\n",
       "  <thead>\n",
       "    <tr style=\"text-align: right;\">\n",
       "      <th></th>\n",
       "      <th>City</th>\n",
       "      <th>Country</th>\n",
       "      <th>Max Temp</th>\n",
       "      <th>Lat</th>\n",
       "      <th>Lng</th>\n",
       "      <th>Hotel Name</th>\n",
       "    </tr>\n",
       "  </thead>\n",
       "  <tbody>\n",
       "    <tr>\n",
       "      <th>26</th>\n",
       "      <td>Sur</td>\n",
       "      <td>OM</td>\n",
       "      <td>88.268</td>\n",
       "      <td>22.5667</td>\n",
       "      <td>59.5289</td>\n",
       "      <td></td>\n",
       "    </tr>\n",
       "    <tr>\n",
       "      <th>38</th>\n",
       "      <td>Diamantino</td>\n",
       "      <td>BR</td>\n",
       "      <td>88.520</td>\n",
       "      <td>-14.4086</td>\n",
       "      <td>-56.4461</td>\n",
       "      <td></td>\n",
       "    </tr>\n",
       "    <tr>\n",
       "      <th>73</th>\n",
       "      <td>Nepa Nagar</td>\n",
       "      <td>IN</td>\n",
       "      <td>88.106</td>\n",
       "      <td>21.4667</td>\n",
       "      <td>76.4000</td>\n",
       "      <td></td>\n",
       "    </tr>\n",
       "    <tr>\n",
       "      <th>77</th>\n",
       "      <td>Bilma</td>\n",
       "      <td>NE</td>\n",
       "      <td>89.258</td>\n",
       "      <td>18.6853</td>\n",
       "      <td>12.9164</td>\n",
       "      <td></td>\n",
       "    </tr>\n",
       "    <tr>\n",
       "      <th>92</th>\n",
       "      <td>Sabha</td>\n",
       "      <td>LY</td>\n",
       "      <td>88.340</td>\n",
       "      <td>27.0377</td>\n",
       "      <td>14.4283</td>\n",
       "      <td></td>\n",
       "    </tr>\n",
       "    <tr>\n",
       "      <th>156</th>\n",
       "      <td>Buxar</td>\n",
       "      <td>IN</td>\n",
       "      <td>88.466</td>\n",
       "      <td>25.5833</td>\n",
       "      <td>83.9833</td>\n",
       "      <td></td>\n",
       "    </tr>\n",
       "    <tr>\n",
       "      <th>195</th>\n",
       "      <td>Villa Bruzual</td>\n",
       "      <td>VE</td>\n",
       "      <td>88.322</td>\n",
       "      <td>9.3328</td>\n",
       "      <td>-69.1208</td>\n",
       "      <td></td>\n",
       "    </tr>\n",
       "    <tr>\n",
       "      <th>242</th>\n",
       "      <td>Guane</td>\n",
       "      <td>CU</td>\n",
       "      <td>89.456</td>\n",
       "      <td>22.2025</td>\n",
       "      <td>-84.0875</td>\n",
       "      <td></td>\n",
       "    </tr>\n",
       "    <tr>\n",
       "      <th>280</th>\n",
       "      <td>Nobres</td>\n",
       "      <td>BR</td>\n",
       "      <td>89.528</td>\n",
       "      <td>-14.7203</td>\n",
       "      <td>-56.3275</td>\n",
       "      <td></td>\n",
       "    </tr>\n",
       "    <tr>\n",
       "      <th>323</th>\n",
       "      <td>Robinson</td>\n",
       "      <td>US</td>\n",
       "      <td>88.016</td>\n",
       "      <td>31.4677</td>\n",
       "      <td>-97.1147</td>\n",
       "      <td></td>\n",
       "    </tr>\n",
       "  </tbody>\n",
       "</table>\n",
       "</div>"
      ],
      "text/plain": [
       "              City Country  Max Temp      Lat      Lng Hotel Name\n",
       "26             Sur      OM    88.268  22.5667  59.5289           \n",
       "38      Diamantino      BR    88.520 -14.4086 -56.4461           \n",
       "73      Nepa Nagar      IN    88.106  21.4667  76.4000           \n",
       "77           Bilma      NE    89.258  18.6853  12.9164           \n",
       "92           Sabha      LY    88.340  27.0377  14.4283           \n",
       "156          Buxar      IN    88.466  25.5833  83.9833           \n",
       "195  Villa Bruzual      VE    88.322   9.3328 -69.1208           \n",
       "242          Guane      CU    89.456  22.2025 -84.0875           \n",
       "280         Nobres      BR    89.528 -14.7203 -56.3275           \n",
       "323       Robinson      US    88.016  31.4677 -97.1147           "
      ]
     },
     "execution_count": 16,
     "metadata": {},
     "output_type": "execute_result"
    }
   ],
   "source": [
    "# Create DataFrame called hotel_df to store hotel names along with city, country, max temp, and coordinates.\n",
    "hotel_df = preferred_cities_df[[\"City\", \"Country\", \"Max Temp\", \"Lat\", \"Lng\"]].copy()\n",
    "hotel_df[\"Hotel Name\"] = \"\"\n",
    "hotel_df.head(10)"
   ]
  },
  {
   "cell_type": "code",
   "execution_count": 17,
   "id": "9629b7b7",
   "metadata": {},
   "outputs": [],
   "source": [
    "# Set parameters to search for a hotel.\n",
    "params = {\n",
    "    \"radius\": 5000,\n",
    "    \"type\": \"lodging\",\n",
    "    \"key\": g_key\n",
    "}"
   ]
  },
  {
   "cell_type": "code",
   "execution_count": 18,
   "id": "fb864481",
   "metadata": {},
   "outputs": [],
   "source": [
    "# Iterate through the DataFrame.\n",
    "for index, row in hotel_df.iterrows():\n",
    "    # Get the latitude and longitude.\n",
    "    lat = row[\"Lat\"]\n",
    "    lng = row[\"Lng\"]\n",
    "\n",
    "    # Add the latitude and longitude to location key for the params dictionary.\n",
    "    params[\"location\"] = f\"{lat},{lng}\"\n",
    "\n",
    "    # Use the search term: \"lodging\" and our latitude and longitude.\n",
    "    base_url = \"https://maps.googleapis.com/maps/api/place/nearbysearch/json\"\n",
    "    # Make request and get the JSON data from the search.\n",
    "    hotels = requests.get(base_url, params=params).json()\n",
    "    # Grab the first hotel from the results and store the name.\n",
    "    try:\n",
    "        hotel_df.loc[index, \"Hotel Name\"] = hotels[\"results\"][0][\"name\"]\n",
    "    except (IndexError):\n",
    "        print(\"Hotel not found... skipping.\")"
   ]
  },
  {
   "cell_type": "code",
   "execution_count": 19,
   "id": "0bbb10cf",
   "metadata": {
    "scrolled": true
   },
   "outputs": [
    {
     "data": {
      "text/html": [
       "<div>\n",
       "<style scoped>\n",
       "    .dataframe tbody tr th:only-of-type {\n",
       "        vertical-align: middle;\n",
       "    }\n",
       "\n",
       "    .dataframe tbody tr th {\n",
       "        vertical-align: top;\n",
       "    }\n",
       "\n",
       "    .dataframe thead th {\n",
       "        text-align: right;\n",
       "    }\n",
       "</style>\n",
       "<table border=\"1\" class=\"dataframe\">\n",
       "  <thead>\n",
       "    <tr style=\"text-align: right;\">\n",
       "      <th></th>\n",
       "      <th>City</th>\n",
       "      <th>Country</th>\n",
       "      <th>Max Temp</th>\n",
       "      <th>Lat</th>\n",
       "      <th>Lng</th>\n",
       "      <th>Hotel Name</th>\n",
       "    </tr>\n",
       "  </thead>\n",
       "  <tbody>\n",
       "    <tr>\n",
       "      <th>26</th>\n",
       "      <td>Sur</td>\n",
       "      <td>OM</td>\n",
       "      <td>88.268</td>\n",
       "      <td>22.5667</td>\n",
       "      <td>59.5289</td>\n",
       "      <td>Sur Plaza Hotel</td>\n",
       "    </tr>\n",
       "    <tr>\n",
       "      <th>38</th>\n",
       "      <td>Diamantino</td>\n",
       "      <td>BR</td>\n",
       "      <td>88.520</td>\n",
       "      <td>-14.4086</td>\n",
       "      <td>-56.4461</td>\n",
       "      <td>Hotel Delta</td>\n",
       "    </tr>\n",
       "    <tr>\n",
       "      <th>73</th>\n",
       "      <td>Nepa Nagar</td>\n",
       "      <td>IN</td>\n",
       "      <td>88.106</td>\n",
       "      <td>21.4667</td>\n",
       "      <td>76.4000</td>\n",
       "      <td>Rest House Hilltop</td>\n",
       "    </tr>\n",
       "    <tr>\n",
       "      <th>77</th>\n",
       "      <td>Bilma</td>\n",
       "      <td>NE</td>\n",
       "      <td>89.258</td>\n",
       "      <td>18.6853</td>\n",
       "      <td>12.9164</td>\n",
       "      <td>Expeditions Ténére voyages</td>\n",
       "    </tr>\n",
       "    <tr>\n",
       "      <th>92</th>\n",
       "      <td>Sabha</td>\n",
       "      <td>LY</td>\n",
       "      <td>88.340</td>\n",
       "      <td>27.0377</td>\n",
       "      <td>14.4283</td>\n",
       "      <td>Foundation Taaj Asala for Historical Research ...</td>\n",
       "    </tr>\n",
       "    <tr>\n",
       "      <th>156</th>\n",
       "      <td>Buxar</td>\n",
       "      <td>IN</td>\n",
       "      <td>88.466</td>\n",
       "      <td>25.5833</td>\n",
       "      <td>83.9833</td>\n",
       "      <td>Honda Service Center</td>\n",
       "    </tr>\n",
       "    <tr>\n",
       "      <th>195</th>\n",
       "      <td>Villa Bruzual</td>\n",
       "      <td>VE</td>\n",
       "      <td>88.322</td>\n",
       "      <td>9.3328</td>\n",
       "      <td>-69.1208</td>\n",
       "      <td>hotel italia</td>\n",
       "    </tr>\n",
       "    <tr>\n",
       "      <th>242</th>\n",
       "      <td>Guane</td>\n",
       "      <td>CU</td>\n",
       "      <td>89.456</td>\n",
       "      <td>22.2025</td>\n",
       "      <td>-84.0875</td>\n",
       "      <td>base de Campismo LosPortales de Guane</td>\n",
       "    </tr>\n",
       "    <tr>\n",
       "      <th>280</th>\n",
       "      <td>Nobres</td>\n",
       "      <td>BR</td>\n",
       "      <td>89.528</td>\n",
       "      <td>-14.7203</td>\n",
       "      <td>-56.3275</td>\n",
       "      <td>Hotel Portal Nobres</td>\n",
       "    </tr>\n",
       "    <tr>\n",
       "      <th>323</th>\n",
       "      <td>Robinson</td>\n",
       "      <td>US</td>\n",
       "      <td>88.016</td>\n",
       "      <td>31.4677</td>\n",
       "      <td>-97.1147</td>\n",
       "      <td>Flat Creek Farms RV Resort</td>\n",
       "    </tr>\n",
       "  </tbody>\n",
       "</table>\n",
       "</div>"
      ],
      "text/plain": [
       "              City Country  Max Temp      Lat      Lng  \\\n",
       "26             Sur      OM    88.268  22.5667  59.5289   \n",
       "38      Diamantino      BR    88.520 -14.4086 -56.4461   \n",
       "73      Nepa Nagar      IN    88.106  21.4667  76.4000   \n",
       "77           Bilma      NE    89.258  18.6853  12.9164   \n",
       "92           Sabha      LY    88.340  27.0377  14.4283   \n",
       "156          Buxar      IN    88.466  25.5833  83.9833   \n",
       "195  Villa Bruzual      VE    88.322   9.3328 -69.1208   \n",
       "242          Guane      CU    89.456  22.2025 -84.0875   \n",
       "280         Nobres      BR    89.528 -14.7203 -56.3275   \n",
       "323       Robinson      US    88.016  31.4677 -97.1147   \n",
       "\n",
       "                                            Hotel Name  \n",
       "26                                     Sur Plaza Hotel  \n",
       "38                                         Hotel Delta  \n",
       "73                                  Rest House Hilltop  \n",
       "77                          Expeditions Ténére voyages  \n",
       "92   Foundation Taaj Asala for Historical Research ...  \n",
       "156                               Honda Service Center  \n",
       "195                                       hotel italia  \n",
       "242              base de Campismo LosPortales de Guane  \n",
       "280                                Hotel Portal Nobres  \n",
       "323                         Flat Creek Farms RV Resort  "
      ]
     },
     "execution_count": 19,
     "metadata": {},
     "output_type": "execute_result"
    }
   ],
   "source": [
    "hotel_df.head(10)"
   ]
  },
  {
   "cell_type": "code",
   "execution_count": 20,
   "id": "c7a759d1",
   "metadata": {
    "scrolled": true
   },
   "outputs": [
    {
     "data": {
      "application/vnd.jupyter.widget-view+json": {
       "model_id": "e275a26c1b5b493c878f6e22f32e1ade",
       "version_major": 2,
       "version_minor": 0
      },
      "text/plain": [
       "Figure(layout=FigureLayout(height='420px'))"
      ]
     },
     "metadata": {},
     "output_type": "display_data"
    }
   ],
   "source": [
    "# Add a heatmap of temperature for the vacation spots.\n",
    "locations = hotel_df[[\"Lat\", \"Lng\"]]\n",
    "max_temp = hotel_df[\"Max Temp\"]\n",
    "fig = gmaps.figure(center=(30.0, 31.0), zoom_level=1.5)\n",
    "heat_layer = gmaps.heatmap_layer(locations, weights=max_temp, dissipating=False,\n",
    "             max_intensity=300, point_radius=4)\n",
    "\n",
    "fig.add_layer(heat_layer)\n",
    "# Call the figure to plot the data.\n",
    "fig"
   ]
  },
  {
   "cell_type": "code",
   "execution_count": 21,
   "id": "004aac15",
   "metadata": {
    "scrolled": true
   },
   "outputs": [
    {
     "data": {
      "application/vnd.jupyter.widget-view+json": {
       "model_id": "f68571f0dcc8490c924b8b2a4ec53f92",
       "version_major": 2,
       "version_minor": 0
      },
      "text/plain": [
       "Figure(layout=FigureLayout(height='420px'))"
      ]
     },
     "metadata": {},
     "output_type": "display_data"
    }
   ],
   "source": [
    "# Add a heatmap of temperature for the vacation spots and marker for each city.\n",
    "locations = hotel_df[[\"Lat\", \"Lng\"]]\n",
    "max_temp = hotel_df[\"Max Temp\"]\n",
    "fig = gmaps.figure(center=(30.0, 31.0), zoom_level=1.5)\n",
    "heat_layer = gmaps.heatmap_layer(locations, weights=max_temp,\n",
    "             dissipating=False, max_intensity=300, point_radius=4)\n",
    "marker_layer = gmaps.marker_layer(locations)\n",
    "fig.add_layer(heat_layer)\n",
    "fig.add_layer(marker_layer)\n",
    "# Call the figure to plot the data.\n",
    "fig"
   ]
  },
  {
   "cell_type": "code",
   "execution_count": 22,
   "id": "b39be38f",
   "metadata": {},
   "outputs": [],
   "source": [
    "info_box_template = \"\"\"\n",
    "<dl>\n",
    "<dt>Hotel Name</dt><dd>{Hotel Name}</dd>\n",
    "<dt>City</dt><dd>{City}</dd>\n",
    "<dt>Country</dt><dd>{Country}</dd>\n",
    "<dt>Max Temp</dt><dd>{Max Temp} °F</dd>\n",
    "</dl>\n",
    "\"\"\"\n",
    "# Store the DataFrame Row.\n",
    "hotel_info = [info_box_template.format(**row) for index, row in hotel_df.iterrows()]"
   ]
  },
  {
   "cell_type": "code",
   "execution_count": 23,
   "id": "fef572dc",
   "metadata": {},
   "outputs": [
    {
     "data": {
      "application/vnd.jupyter.widget-view+json": {
       "model_id": "5dd6dd2fb17641328695b7f23d7b26cc",
       "version_major": 2,
       "version_minor": 0
      },
      "text/plain": [
       "Figure(layout=FigureLayout(height='420px'))"
      ]
     },
     "metadata": {},
     "output_type": "display_data"
    }
   ],
   "source": [
    "# Add a heatmap of temperature for the vacation spots and a pop-up marker for each city.\n",
    "locations = hotel_df[[\"Lat\", \"Lng\"]]\n",
    "max_temp = hotel_df[\"Max Temp\"]\n",
    "fig = gmaps.figure(center=(30.0, 31.0), zoom_level=1.5)\n",
    "heat_layer = gmaps.heatmap_layer(locations, weights=max_temp,dissipating=False,\n",
    "             max_intensity=300, point_radius=4)\n",
    "marker_layer = gmaps.marker_layer(locations, info_box_content=hotel_info)\n",
    "fig.add_layer(heat_layer)\n",
    "fig.add_layer(marker_layer)\n",
    "\n",
    "# Call the figure to plot the data.\n",
    "fig"
   ]
  }
 ],
 "metadata": {
  "kernelspec": {
   "display_name": "PythonData",
   "language": "python",
   "name": "pythondata"
  },
  "language_info": {
   "codemirror_mode": {
    "name": "ipython",
    "version": 3
   },
   "file_extension": ".py",
   "mimetype": "text/x-python",
   "name": "python",
   "nbconvert_exporter": "python",
   "pygments_lexer": "ipython3",
   "version": "3.9.7"
  }
 },
 "nbformat": 4,
 "nbformat_minor": 5
}
